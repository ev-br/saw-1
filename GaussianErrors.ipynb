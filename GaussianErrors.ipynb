{
 "cells": [
  {
   "cell_type": "code",
   "execution_count": 1,
   "id": "470b839a",
   "metadata": {},
   "outputs": [],
   "source": [
    "import matplotlib.pyplot as plt\n",
    "import random\n",
    "import numpy as np\n",
    "\n",
    "import pandas as pd\n",
    "from matplotlib.ticker import LogFormatter \n",
    "from scipy.optimize import curve_fit\n",
    "from pathlib import Path\n",
    "import matplotlib.colors\n",
    "from matplotlib import ticker, cm\n",
    "\n",
    "import seaborn as sns\n",
    "from scipy.stats import norm"
   ]
  },
  {
   "cell_type": "code",
   "execution_count": 5,
   "id": "8cb9437d",
   "metadata": {},
   "outputs": [
    {
     "data": {
      "text/plain": [
       "<AxesSubplot:ylabel='Count'>"
      ]
     },
     "execution_count": 5,
     "metadata": {},
     "output_type": "execute_result"
    },
    {
     "data": {
      "image/png": "[encoded data removed]",
      "text/plain": [
       "<Figure size 432x288 with 1 Axes>"
      ]
     },
     "metadata": {
      "needs_background": "light"
     },
     "output_type": "display_data"
    }
   ],
   "source": [
    "n = 100000\n",
    "x = np.random.normal(0, 4, n)\n",
    "y = np.random.normal(0, 3, n)\n",
    "\n",
    "z = x + y \n",
    "\n",
    "sns.histplot(z)"
   ]
  },
  {
   "cell_type": "code",
   "execution_count": 6,
   "id": "d5e38da9",
   "metadata": {},
   "outputs": [
    {
     "name": "stdout",
     "output_type": "stream",
     "text": [
      "std :  5.003808081968091\n"
     ]
    }
   ],
   "source": [
    "print(\"std : \", np.std(z))"
   ]
  },
  {
   "cell_type": "code",
   "execution_count": 4,
   "id": "b2bb92ca",
   "metadata": {},
   "outputs": [
    {
     "name": "stdout",
     "output_type": "stream",
     "text": [
      "std :  4.992265599539941\n"
     ]
    }
   ],
   "source": [
    "e1 = norm.rvs(np.mean(x), np.std(x), size = n)\n",
    "e2 = norm.rvs(np.mean(y), np.std(y), size = n)\n",
    "\n",
    "new_z = e1 + e2\n",
    "mean = np.mean(new_z)\n",
    "\n",
    "err=np.std(new_z)\n",
    "\n",
    "print(\"std : \", err)"
   ]
  },
  {
   "cell_type": "code",
   "execution_count": null,
   "id": "9a106401",
   "metadata": {},
   "outputs": [],
   "source": []
  }
 ],
 "metadata": {
  "kernelspec": {
   "display_name": "Python 3",
   "language": "python",
   "name": "python3"
  },
  "language_info": {
   "codemirror_mode": {
    "name": "ipython",
    "version": 3
   },
   "file_extension": ".py",
   "mimetype": "text/x-python",
   "name": "python",
   "nbconvert_exporter": "python",
   "pygments_lexer": "ipython3",
   "version": "3.8.8"
  }
 },
 "nbformat": 4,
 "nbformat_minor": 5
}

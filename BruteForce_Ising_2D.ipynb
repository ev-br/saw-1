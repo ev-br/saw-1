{
 "cells": [
  {
   "cell_type": "code",
   "execution_count": 23,
   "metadata": {},
   "outputs": [],
   "source": [
    "from scipy.optimize import fsolve"
   ]
  },
  {
   "cell_type": "code",
   "execution_count": 13,
   "metadata": {},
   "outputs": [],
   "source": [
    "import matplotlib.pyplot as plt\n",
    "import numpy as np \n",
    "from math import sqrt \n",
    "from math import floor\n",
    "from math import ceil\n",
    "from math import exp \n",
    "import pickle\n",
    "from operator import itemgetter\n",
    "import time\n",
    "from datetime import timedelta\n",
    "import matplotlib\n",
    "from matplotlib import cm, colors\n",
    "from numpy import amin, amax, ravel\n",
    "\n",
    "import pickle\n"
   ]
  },
  {
   "cell_type": "code",
   "execution_count": 14,
   "metadata": {},
   "outputs": [],
   "source": [
    "def get_all_saws(current_paths, length, current_conformation):\n",
    "    \"\"\" Все созданные конформации лежат в первом аргументе функции get_all_saws, \n",
    "    поэтому первым аргументом нужно подавать переменную, которой ранее присвоили пустой список\n",
    "    \n",
    "    \"\"\"\n",
    "    if(length==1):\n",
    "        current_paths.append(current_conformation)\n",
    "    else:\n",
    "        for step in [(1, 0), (-1, 0), (0, 1),  (0, -1)]:\n",
    "            new_point = (current_conformation[-1][0]+step[0], current_conformation[-1][1]+step[1] )\n",
    "            if new_point in current_conformation:\n",
    "                continue\n",
    "            else:\n",
    "                temp_path = current_conformation.copy()\n",
    "                temp_path.append(new_point)\n",
    "                get_all_saws(current_paths, length-1,  temp_path)"
   ]
  },
  {
   "cell_type": "code",
   "execution_count": 15,
   "metadata": {},
   "outputs": [],
   "source": [
    "def get_sequences(length):\n",
    "    \"\"\"Получаем все последовательности заданной длины, состоящие из 0 и 1.\n",
    "    1 - это H\n",
    "    0 - это Р\"\"\"\n",
    "    if(length ==1):\n",
    "        return [[-1], [1]]\n",
    "    else:\n",
    "        previous = get_sequences(length - 1)\n",
    "        result = [] \n",
    "        for i in range(len(previous)):\n",
    "            current = previous[i].copy()\n",
    "            current.append(-1)\n",
    "            result.append(current.copy())\n",
    "            current[-1] = 1\n",
    "            result.append(current)\n",
    "            #print(result) \n",
    "        return sorted(result)"
   ]
  },
  {
   "cell_type": "code",
   "execution_count": 16,
   "metadata": {},
   "outputs": [],
   "source": [
    "def end_to_end_distance(path):\n",
    "    \"\"\"Евклидова метрика\"\"\"\n",
    "    distance = (path[-1][0]-path[0][0])**2+(path[-1][1]-path[0][1])**2   \n",
    "    return distance "
   ]
  },
  {
   "cell_type": "code",
   "execution_count": 17,
   "metadata": {},
   "outputs": [],
   "source": [
    "steps = [(1, 0), (-1, 0), (0, 1),  (0, -1)]\n",
    "def Ising_energy1(saw, seq):\n",
    "    \"\"\"Функция принимает на вход конформацию на плоскости(список координат). \n",
    "    Возвращает число топологических соседей для нее \"\"\"\n",
    "    k=0\n",
    "    for i in range(1, len(saw)-1):\n",
    "        not_topological=[saw[i-1], saw[i+1]]\n",
    "        for step in steps:\n",
    "            new_point = (saw[i][0]+step[0], saw[i][1]+step[1] )\n",
    "            if (new_point in saw and (new_point not in not_topological)):\n",
    "                position = saw.index(new_point)\n",
    "                k=k+seq[i]*seq[position]\n",
    "    for step in steps:\n",
    "        new_point_begin = (saw[0][0]+step[0], saw[0][1]+step[1] )\n",
    "        new_point_end= ( saw[-1][0]+step[0], saw[-1][1]+step[1])\n",
    "        \n",
    "        if(new_point_begin in saw and new_point_begin!=saw[1]):\n",
    "            position = saw.index(new_point_begin)\n",
    "            k=k+seq[0]*seq[position]\n",
    " \n",
    "        if( new_point_end in saw and new_point_end!=saw[-2]    ):\n",
    "            position = saw.index(new_point_end)\n",
    "            k=k+seq[-1]*seq[position]\n",
    "        \n",
    "        \n",
    "    #print(k)\n",
    "    return k//2"
   ]
  },
  {
   "cell_type": "code",
   "execution_count": 18,
   "metadata": {},
   "outputs": [],
   "source": [
    "steps = [(1, 0), (-1, 0), (0, 1),  (0, -1)]\n",
    "def Ising_energy(saw, seq):\n",
    "    \"\"\"Функция принимает на вход конформацию на плоскости(список координат). \n",
    "    Возвращает число топологических соседей для нее \"\"\"\n",
    "    k=0\n",
    "    for i in range(1, len(saw)-1):\n",
    "        not_topological=[saw[i-1], saw[i+1]]\n",
    "        for step in steps:\n",
    "            new_point = (saw[i][0]+step[0], saw[i][1]+step[1] )\n",
    "            if (new_point in saw    ):\n",
    "                position = saw.index(new_point)\n",
    "                k=k+seq[i]*seq[position]\n",
    "    for step in steps:\n",
    "        new_point_begin = (saw[0][0]+step[0], saw[0][1]+step[1] )\n",
    "        new_point_end= ( saw[-1][0]+step[0], saw[-1][1]+step[1])\n",
    "        \n",
    "        if(new_point_begin in saw ):\n",
    "            position = saw.index(new_point_begin)\n",
    "            k=k+seq[0]*seq[position]\n",
    " \n",
    "        if( new_point_end in saw    ):\n",
    "            position = saw.index(new_point_end)\n",
    "            k=k+seq[-1]*seq[position]\n",
    "        \n",
    "        \n",
    "    #print(k//2)\n",
    "    return k//2"
   ]
  },
  {
   "cell_type": "code",
   "execution_count": 19,
   "metadata": {},
   "outputs": [],
   "source": [
    "#Ячейка взяла из Coursework \n",
    "\n",
    "steps = [(1, 0), (-1, 0), (0, 1),  (0, -1)]\n",
    "def Ising_energy1(saw):\n",
    "    \"\"\"Функция принимает на вход конформацию на плоскости(список координат). \n",
    "    Возвращает число топологических соседей для нее \"\"\"\n",
    "    k=0\n",
    "    for i in range(1, len(saw)-1):\n",
    "        not_topological=[saw[i-1], saw[i+1]]\n",
    "        for step in steps:\n",
    "            new_point = (saw[i][0]+step[0], saw[i][1]+step[1] )\n",
    "            if (new_point in saw and (new_point not in not_topological)):\n",
    "                k=k+1\n",
    "    for step in steps:\n",
    "        new_point_begin = (saw[0][0]+step[0], saw[0][1]+step[1] )\n",
    "        new_point_end= ( saw[-1][0]+step[0], saw[-1][1]+step[1])\n",
    "        if(new_point_begin in saw and new_point_begin!=saw[1]):\n",
    "            k=k+1\n",
    " \n",
    "        if( new_point_end in saw and new_point_end!=saw[-2]    ):\n",
    "            k=k+1\n",
    "        \n",
    "        \n",
    "    return k//2"
   ]
  },
  {
   "cell_type": "code",
   "execution_count": 20,
   "metadata": {},
   "outputs": [],
   "source": [
    "h=2\n",
    "def calc_r (eps, f = 8):\n",
    "\n",
    "    mean_c_l = []\n",
    "    \n",
    "    for i in range(4, f+1):\n",
    "        seq = get_sequences(i)\n",
    "        conformat = []\n",
    "\n",
    "        start_conformation = [(0,0)]\n",
    "        get_all_saws(conformat, i ,start_conformation)\n",
    "\n",
    "        Z = 0.0\n",
    "        R_sum = 0.0\n",
    "\n",
    "        for l in range(len(conformat)):\n",
    "            for j in range(len(seq)):\n",
    "                E = Ising_energy1(conformat[l], seq[j])\n",
    "                Z = Z + np.exp(-(-eps*E-h*np.sum(seq[j])))\n",
    "                r = end_to_end_distance(conformat[l])\n",
    "                R_sum = R_sum + np.exp(-(-eps*E-h*np.sum(seq[j])))*r\n",
    "\n",
    "        mean_c_l.append(R_sum/Z)\n",
    "        \n",
    " \n",
    "            \n",
    "        print(i)\n",
    "        print(R_sum,Z)\n",
    "        print(R_sum/Z)\n",
    "        \n",
    "        \n",
    "    fn = 'Ising/radiues1'+str(eps)+'.pickle'\n",
    "    with open(fn, 'wb') as f:\n",
    "        pickle.dump(mean_c_l, f)        \n",
    "        \n",
    "    "
   ]
  },
  {
   "cell_type": "code",
   "execution_count": 21,
   "metadata": {},
   "outputs": [],
   "source": [
    "steps = [(1, 0), (-1, 0), (0, 1),  (0, -1)]\n",
    "\n",
    "def count_saws_contact(saws):\n",
    "    \"\"\"Функция принимает список блужданий на плоскости. Возвращает словарь, в котором ключ - число топологических соседей,\n",
    "    а значение - число таких конформаций.\n",
    "    Максимальное число топологических соседей находится по формуле из [1]\"\"\"\n",
    "    n=len(saws[0])\n",
    "    \n",
    "    n2 = 0\n",
    "    n3 = 0\n",
    "    n4 = 0 \n",
    "    n_2 = []\n",
    "    n_3 = []\n",
    "    n_4 = []\n",
    "    counts ={}\n",
    "    for i in range(n):\n",
    "        counts.update({i :0})\n",
    "    for saw in saws:\n",
    "        n2 = 0\n",
    "        n3 = 0\n",
    "        n4 = 0 \n",
    "        for i in range(n):\n",
    "            k=0\n",
    "            for step in steps:\n",
    "                new_point = (saw[i][0]+step[0], saw[i][1]+step[1] )\n",
    "                if (new_point in saw ):\n",
    "                    k+=1\n",
    "            if(k==2):\n",
    "                n2+=1\n",
    "            if(k==3):\n",
    "                n3+=1\n",
    "            if(k==4):\n",
    "                n4+=1\n",
    "        n_2.append(n2/n)\n",
    "        n_3.append(n3/n)\n",
    "        n_4.append(n4/n)\n",
    " \n",
    "    n2 = np.mean(n_2)\n",
    "    n3 = np.mean(n_3)\n",
    "    n4 = np.mean(n_4)\n",
    "                \n",
    "        \n",
    "    return np.array([n2,n3,n4])#{2:n2, 3:n3, 4:n4}"
   ]
  },
  {
   "cell_type": "code",
   "execution_count": 8,
   "metadata": {},
   "outputs": [],
   "source": [
    "conformat = []\n",
    "\n",
    "start_conformation = [(0,0)]\n",
    "\n",
    "conf_10 = get_all_saws(conformat, 10,start_conformation)"
   ]
  },
  {
   "cell_type": "code",
   "execution_count": 11,
   "metadata": {},
   "outputs": [
    {
     "data": {
      "text/plain": [
       "array([0.67223998, 0.16139661, 0.01475289])"
      ]
     },
     "execution_count": 11,
     "metadata": {},
     "output_type": "execute_result"
    }
   ],
   "source": [
    "d = count_saws_contact(conformat)\n",
    "d"
   ]
  },
  {
   "cell_type": "code",
   "execution_count": 11,
   "metadata": {},
   "outputs": [
    {
     "data": {
      "text/plain": [
       "(0.8483894762724367,)"
      ]
     },
     "execution_count": 11,
     "metadata": {},
     "output_type": "execute_result"
    }
   ],
   "source": [
    "sum(d), "
   ]
  },
  {
   "cell_type": "code",
   "execution_count": 12,
   "metadata": {},
   "outputs": [
    {
     "data": {
      "text/plain": [
       "Text(0.5, 1.0, 'N=10')"
      ]
     },
     "execution_count": 12,
     "metadata": {},
     "output_type": "execute_result"
    },
    {
     "data": {
      "image/png": "[encoded data removed]",
      "text/plain": [
       "<Figure size 432x288 with 1 Axes>"
      ]
     },
     "metadata": {
      "needs_background": "light"
     },
     "output_type": "display_data"
    }
   ],
   "source": [
    "plt.bar(np.arange(2,5), d, color='g')\n",
    "plt.title(\"N=10\")\n"
   ]
  },
  {
   "cell_type": "code",
   "execution_count": 13,
   "metadata": {},
   "outputs": [
    {
     "data": {
      "text/plain": [
       "Text(0.5, 1.0, 'N=11')"
      ]
     },
     "execution_count": 13,
     "metadata": {},
     "output_type": "execute_result"
    },
    {
     "data": {
      "image/png": "[encoded data removed]",
      "text/plain": [
       "<Figure size 432x288 with 1 Axes>"
      ]
     },
     "metadata": {
      "needs_background": "light"
     },
     "output_type": "display_data"
    }
   ],
   "source": [
    "conformat = []\n",
    "\n",
    "start_conformation = [(0,0)]\n",
    "\n",
    "conf_10 = get_all_saws(conformat, 11,start_conformation)\n",
    "d1 = count_saws_contact(conformat)\n",
    "\n",
    "plt.bar(np.arange(2,5), d1, color='b')\n",
    "plt.title(\"N=11\")\n"
   ]
  },
  {
   "cell_type": "code",
   "execution_count": 14,
   "metadata": {},
   "outputs": [
    {
     "data": {
      "text/plain": [
       "array([0.67457431, 0.16874047, 0.01668934])"
      ]
     },
     "execution_count": 14,
     "metadata": {},
     "output_type": "execute_result"
    }
   ],
   "source": [
    "d1"
   ]
  },
  {
   "cell_type": "code",
   "execution_count": 15,
   "metadata": {},
   "outputs": [
    {
     "data": {
      "text/plain": [
       "Text(0.5, 1.0, 'N=12')"
      ]
     },
     "execution_count": 15,
     "metadata": {},
     "output_type": "execute_result"
    },
    {
     "data": {
      "image/png": "[encoded data removed]",
      "text/plain": [
       "<Figure size 432x288 with 1 Axes>"
      ]
     },
     "metadata": {
      "needs_background": "light"
     },
     "output_type": "display_data"
    }
   ],
   "source": [
    "conformat = []\n",
    "\n",
    "start_conformation = [(0,0)]\n",
    "\n",
    "conf_10 = get_all_saws(conformat, 12,start_conformation)\n",
    "d2 = count_saws_contact(conformat)\n",
    "\n",
    "plt.bar(np.arange(2,5), d2, color='r')\n",
    "plt.title(\"N=12\")"
   ]
  },
  {
   "cell_type": "code",
   "execution_count": 16,
   "metadata": {},
   "outputs": [
    {
     "data": {
      "text/plain": [
       "array([0.67956306, 0.17658143, 0.01841076])"
      ]
     },
     "execution_count": 16,
     "metadata": {},
     "output_type": "execute_result"
    }
   ],
   "source": [
    "d2"
   ]
  },
  {
   "cell_type": "code",
   "execution_count": 17,
   "metadata": {},
   "outputs": [
    {
     "data": {
      "text/plain": [
       "0.8745552488943571"
      ]
     },
     "execution_count": 17,
     "metadata": {},
     "output_type": "execute_result"
    }
   ],
   "source": [
    "sum(d2)"
   ]
  },
  {
   "cell_type": "code",
   "execution_count": null,
   "metadata": {},
   "outputs": [],
   "source": []
  },
  {
   "cell_type": "code",
   "execution_count": 49,
   "metadata": {},
   "outputs": [
    {
     "name": "stdout",
     "output_type": "stream",
     "text": [
      "4\n",
      "555507.5891293151 145213.29342467687\n",
      "3.8254596120530846\n",
      "5\n",
      "19672031.426798023 3309336.505411973\n",
      "5.944403476233702\n",
      "6\n",
      "648873505.5814533 91618348.43043621\n",
      "7.082353226156752\n",
      "7\n",
      "20079411635.198135 2118931038.0409706\n",
      "9.47619874111726\n",
      "8\n",
      "609396223096.324 58642014969.699974\n",
      "10.391802249823712\n"
     ]
    }
   ],
   "source": [
    "calc_r(0.8, 8)"
   ]
  },
  {
   "cell_type": "code",
   "execution_count": 19,
   "metadata": {},
   "outputs": [],
   "source": [
    "#calc_r(0.8, 9)"
   ]
  },
  {
   "cell_type": "code",
   "execution_count": 27,
   "metadata": {},
   "outputs": [],
   "source": [
    "def center_of_mass(conformation):\n",
    "    \"\"\"Функция для нахождения координат центра масс.\n",
    "    Подразумевается, что все аминокислоты в молекуле одинаковой массы, а между ними ничего с массой нет.\n",
    "    Принимает конформацию - список из координат, возвращает координаты в виде коортежа.\n",
    "    \"\"\"\n",
    "    x=0\n",
    "    y=0\n",
    "    for i in range(len(conformation)):\n",
    "        #x=x+(conformation[i][0]-conformation[0][0])\n",
    "        #y=y+(conformation[i][1]-conformation[0][1])\n",
    "        x=x+(conformation[i][0])\n",
    "        y=y+(conformation[i][1])        \n",
    "    return (x/len(conformation), y/len(conformation)) \n",
    "\n",
    "def square_radius_of_gyration(conformation):\n",
    "    \"\"\"Функция возвращает радиус вращения для данной конформации \"\"\"\n",
    "    cent_mass=center_of_mass(conformation)\n",
    "    summa=0\n",
    "    A = 0\n",
    "    BC = 0\n",
    "    D = 0\n",
    "    #print(cent_mass)\n",
    "    for i in range(len(conformation)):\n",
    "        dist = (conformation[i][0]-cent_mass[0],  conformation[i][1]-cent_mass[1])\n",
    "        summa=summa+dist[0]*dist[0]+dist[1]*dist[1]\n",
    "        A+=dist[0]*dist[0]\n",
    "        D+=dist[1]*dist[1]\n",
    "        BC+=dist[0]*dist[1]\n",
    "        \n",
    "    A/=len(conformation)\n",
    "    D/=len(conformation)\n",
    "    BC/=len(conformation)\n",
    "    equ = lambda x: x*x-(A+D)*x+(A*D-BC*BC)\n",
    "    \n",
    "    lambda1 = fsolve(equ, 10)[0]\n",
    "    lambda2 = fsolve(equ, 0)[0]\n",
    "    \n",
    "    aratio = (lambda1-lambda2)**2/(lambda1+lambda2)**2\n",
    "    #print(A, D, BC)\n",
    "    #print(A+D, summa/len(conformation)  )\n",
    "    #print(lambda1, lambda2, aratio)\n",
    "    \n",
    "    return summa/len(conformation),lambda1,lambda2,aratio\n",
    " "
   ]
  },
  {
   "cell_type": "code",
   "execution_count": null,
   "metadata": {},
   "outputs": [],
   "source": [
    "sides = np.array([[200,200], [150,200], [100, 200], [80,200], [50,200],  ])"
   ]
  },
  {
   "cell_type": "code",
   "execution_count": null,
   "metadata": {},
   "outputs": [],
   "source": []
  },
  {
   "cell_type": "code",
   "execution_count": 14,
   "metadata": {},
   "outputs": [
    {
     "data": {
      "text/plain": [
       "[(0, 0), (1, 0), (2, 0), (3, 0), (4, 0), (5, 0), (6, 0)]"
      ]
     },
     "execution_count": 14,
     "metadata": {},
     "output_type": "execute_result"
    }
   ],
   "source": [
    "conformat = []\n",
    "\n",
    "start_conformation = [(0,0)]\n",
    "get_all_saws(conformat, 7 ,start_conformation)\n",
    "\n",
    "conformat[0]"
   ]
  },
  {
   "cell_type": "code",
   "execution_count": 30,
   "metadata": {},
   "outputs": [
    {
     "data": {
      "text/plain": [
       "(2.6666666666666665,\n",
       " 2.0000000000000004,\n",
       " 0.6666666666666665,\n",
       " 0.25000000000000017)"
      ]
     },
     "execution_count": 30,
     "metadata": {},
     "output_type": "execute_result"
    }
   ],
   "source": [
    "Try = [(0, 0), (1, 0), (2, 0), (3, 0), (4, 0), (5, 0), (6, 0),(7, 0),(8, 0),(9, 0),(10, 0)]\n",
    "Try = [(0, 0), (1, 0), (2, 0), (2,1), (1,1),(0,1), (0,2), (1,2), (2,2), (3,2), (3,1),(3,0), (4,0), (4,1), (4,2) ]\n",
    "square_radius_of_gyration(Try)"
   ]
  },
  {
   "cell_type": "code",
   "execution_count": 16,
   "metadata": {},
   "outputs": [
    {
     "data": {
      "text/plain": [
       "(4.0, 4.0, 0.0, 1.0)"
      ]
     },
     "execution_count": 16,
     "metadata": {},
     "output_type": "execute_result"
    }
   ],
   "source": [
    "square_radius_of_gyration(conformat[0])"
   ]
  },
  {
   "cell_type": "code",
   "execution_count": 11,
   "metadata": {},
   "outputs": [],
   "source": [
    "def calc_r_gyration (eps, f = 8):\n",
    "\n",
    "    mean_c_l = []\n",
    "    \n",
    "    for i in range(4, f+1):\n",
    "\n",
    "        conformat = []\n",
    "\n",
    "        start_conformation = [(0,0)]\n",
    "        get_all_saws(conformat, i ,start_conformation)\n",
    "        #print(conformat[0])\n",
    "        Z = 0.0\n",
    "        R_sum = 0.0\n",
    "        \n",
    "        l1 = 0.0\n",
    "        l2 = 0.0\n",
    "        a = 0.0\n",
    "        for l in range(len(conformat)):\n",
    " \n",
    "            #E = Ising_energy(conformat[l], seq[j])\n",
    "                #print(seq[-1])\n",
    "            E = Ising_energy1(conformat[l])\n",
    "            Z = Z + np.exp(-eps*E)\n",
    "            r,lambda1,lambda2,aratio = square_radius_of_gyration(conformat[l])\n",
    "       \n",
    "    \n",
    "            R_sum = R_sum + np.exp(-eps*E)*r\n",
    "            l1+=np.exp(-eps*E)*lambda1\n",
    "            l2+=np.exp(-eps*E)*lambda2\n",
    "            a+=np.exp(-eps*E)*aratio\n",
    "      \n",
    "        mean_c_l.append(R_sum/Z)\n",
    "      \n",
    "            \n",
    "        print(i)\n",
    "        print(\"R_g\", R_sum/Z)\n",
    "        print(\"eigvals1\", l1/Z)\n",
    "        print(\"eigvals2\", l2/Z)\n",
    "        print(\"A\", a/Z)"
   ]
  },
  {
   "cell_type": "code",
   "execution_count": 28,
   "metadata": {},
   "outputs": [
    {
     "name": "stdout",
     "output_type": "stream",
     "text": [
      "4\n",
      "R_g 0.7523684367597356\n",
      "eigvals1 0.599554787607401\n",
      "eigvals2 0.15281364925788649\n",
      "A 0.38102379526454416\n",
      "5\n",
      "R_g 1.0725007426620838\n",
      "eigvals1 0.9017112924033954\n",
      "eigvals2 0.17078945025868988\n",
      "A 0.43499949309390257\n",
      "6\n",
      "R_g 1.3437718512723709\n",
      "eigvals1 1.1150964556832006\n",
      "eigvals2 0.22867539558917818\n",
      "A 0.4140247777858363\n",
      "7\n",
      "R_g 1.7015403945746912\n",
      "eigvals1 1.4145320416007938\n",
      "eigvals2 0.2870083529739072\n",
      "A 0.42155974053427214\n",
      "8\n",
      "R_g 1.982643593187759\n",
      "eigvals1 1.6349910718118439\n",
      "eigvals2 0.3476525213250582\n",
      "A 0.40189401314545864\n",
      "9\n",
      "R_g 2.358343101759728\n",
      "eigvals1 1.948335423596359\n",
      "eigvals2 0.4100076781131796\n",
      "A 0.40652248806305463\n"
     ]
    }
   ],
   "source": [
    "calc_r_gyration(-0.667, 9)"
   ]
  },
  {
   "cell_type": "code",
   "execution_count": 16,
   "metadata": {},
   "outputs": [
    {
     "name": "stdout",
     "output_type": "stream",
     "text": [
      "4\n",
      "2624.0 576.0\n",
      "5\n",
      "22528.0 3200.0\n",
      "6\n",
      "173824.0 18176.0\n",
      "7\n",
      "1255424.0 99840.0\n",
      "8\n",
      "8649728.0 556032.0\n",
      "9\n",
      "57589760.0 3028992.0\n"
     ]
    }
   ],
   "source": [
    "calc_r(0, 9)"
   ]
  },
  {
   "cell_type": "code",
   "execution_count": 9,
   "metadata": {},
   "outputs": [
    {
     "name": "stdout",
     "output_type": "stream",
     "text": [
      "4\n",
      "2624.0 576.0\n",
      "5\n",
      "22528.0 3200.0\n",
      "6\n",
      "173824.0 18176.0\n",
      "7\n",
      "1255424.0 99840.0\n",
      "8\n",
      "8649728.0 556032.0\n",
      "9\n",
      "57589760.0 3028992.0\n"
     ]
    }
   ],
   "source": [
    "calc_r(0, 9)"
   ]
  },
  {
   "cell_type": "code",
   "execution_count": 9,
   "metadata": {},
   "outputs": [
    {
     "name": "stdout",
     "output_type": "stream",
     "text": [
      "4\n",
      "2301314.7671979447 559102.5589982035\n",
      "4.116086986476017\n",
      "5\n",
      "127225222.20031191 20022237.357214194\n",
      "6.354196083609583\n",
      "6\n",
      "6429960937.67582 800525389.4827659\n",
      "8.032176146006233\n",
      "7\n",
      "305342776295.6921 28781448383.5583\n",
      "10.609013564102712\n",
      "8\n",
      "13994564463899.232 1134493693507.6902\n",
      "12.335515432113215\n",
      "9\n",
      "620855601333435.1 41043134031759.05\n",
      "15.12690529073679\n"
     ]
    }
   ],
   "source": [
    "calc_r(0.5, 9)\n"
   ]
  },
  {
   "cell_type": "code",
   "execution_count": 10,
   "metadata": {},
   "outputs": [
    {
     "name": "stdout",
     "output_type": "stream",
     "text": [
      "4\n",
      "3795.209668892801 858.742463331268\n",
      "5\n",
      "37312.923012477615 5470.247184080317\n",
      "6\n",
      "331093.8458863125 36469.462495951164\n",
      "7\n",
      "2754353.1265523713 230746.3218309893\n",
      "8\n",
      "21914197.889178168 1507905.6345244353\n",
      "9\n",
      "168616103.63162214 9492969.084872395\n"
     ]
    }
   ],
   "source": [
    "calc_r(0.5, 9)"
   ]
  },
  {
   "cell_type": "code",
   "execution_count": 18,
   "metadata": {},
   "outputs": [
    {
     "name": "stdout",
     "output_type": "stream",
     "text": [
      "4\n",
      "2667.1916731270217 619.1916731270205\n",
      "5\n",
      "23564.60015504843 3545.5333850161933\n",
      "6\n",
      "188630.015635034 21691.75723609176\n",
      "7\n",
      "1417002.4756924948 123819.65726853596\n",
      "8\n",
      "10206165.11825616 743246.7419526328\n",
      "9\n",
      "71123942.77211504 4234400.026969783\n"
     ]
    }
   ],
   "source": [
    "calc_r(0.8, 9)\n"
   ]
  },
  {
   "cell_type": "code",
   "execution_count": 11,
   "metadata": {},
   "outputs": [
    {
     "name": "stdout",
     "output_type": "stream",
     "text": [
      "4\n",
      "6460.385930086536 1560.928903075966\n",
      "5\n",
      "77952.37717293733 12196.1421903517\n",
      "6\n",
      "860239.0706876665 106530.50121774133\n",
      "7\n",
      "8918268.76338377 836004.8171040502\n",
      "8\n",
      "89298294.74877487 7210703.25405901\n",
      "9\n",
      "865641491.5100735 57056848.58054875\n"
     ]
    }
   ],
   "source": [
    "calc_r(0.8, 9)"
   ]
  },
  {
   "cell_type": "code",
   "execution_count": 19,
   "metadata": {},
   "outputs": [
    {
     "name": "stdout",
     "output_type": "stream",
     "text": [
      "4\n",
      "2748.277021481804 700.2770214818084\n",
      "5\n",
      "25510.648515563735 4194.216171854423\n",
      "6\n",
      "218945.16564905495 29551.65089116937\n",
      "7\n",
      "1764426.8843524102 178914.61306710588\n",
      "8\n",
      "13852065.182455745 1251987.7692973707\n",
      "9\n",
      "105179763.76126094 7710227.959430352\n"
     ]
    }
   ],
   "source": [
    "calc_r(1.3, 9)"
   ]
  },
  {
   "cell_type": "code",
   "execution_count": 12,
   "metadata": {},
   "outputs": [
    {
     "name": "stdout",
     "output_type": "stream",
     "text": [
      "4\n",
      "22105.87517150113 6426.3420133735535\n",
      "5\n",
      "435316.2680159763 80080.32855429556\n",
      "6\n",
      "8335701.681888831 1418683.5275521083\n",
      "7\n",
      "147784967.43690336 18166659.024148706\n",
      "8\n",
      "2684658640.3004537 333091986.3716222\n",
      "9\n",
      "46704209216.32553 4587856888.732316\n"
     ]
    }
   ],
   "source": [
    "calc_r(1.3, 9)"
   ]
  },
  {
   "cell_type": "code",
   "execution_count": null,
   "metadata": {},
   "outputs": [],
   "source": []
  }
 ],
 "metadata": {
  "kernelspec": {
   "display_name": "Python 3",
   "language": "python",
   "name": "python3"
  },
  "language_info": {
   "codemirror_mode": {
    "name": "ipython",
    "version": 3
   },
   "file_extension": ".py",
   "mimetype": "text/x-python",
   "name": "python",
   "nbconvert_exporter": "python",
   "pygments_lexer": "ipython3",
   "version": "3.8.8"
  }
 },
 "nbformat": 4,
 "nbformat_minor": 4
}

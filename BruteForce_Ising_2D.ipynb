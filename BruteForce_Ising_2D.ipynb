{
 "cells": [
  {
   "cell_type": "code",
   "execution_count": 1,
   "metadata": {},
   "outputs": [],
   "source": [
    "import matplotlib.pyplot as plt\n",
    "import numpy as np \n",
    "from math import sqrt \n",
    "from math import floor\n",
    "from math import ceil\n",
    "from math import exp \n",
    "import pickle\n",
    "from operator import itemgetter\n",
    "import time\n",
    "from datetime import timedelta\n",
    "import matplotlib\n",
    "from matplotlib import cm, colors\n",
    "from numpy import amin, amax, ravel\n",
    "\n",
    "import pickle\n"
   ]
  },
  {
   "cell_type": "code",
   "execution_count": 2,
   "metadata": {},
   "outputs": [],
   "source": [
    "def get_all_saws(current_paths, length, current_conformation):\n",
    "    \"\"\" Все созданные конформации лежат в первом аргументе функции get_all_saws, \n",
    "    поэтому первым аргументом нужно подавать переменную, которой ранее присвоили пустой список\n",
    "    \n",
    "    \"\"\"\n",
    "    if(length==1):\n",
    "        current_paths.append(current_conformation)\n",
    "    else:\n",
    "        for step in [(1, 0), (-1, 0), (0, 1),  (0, -1)]:\n",
    "            new_point = (current_conformation[-1][0]+step[0], current_conformation[-1][1]+step[1] )\n",
    "            if new_point in current_conformation:\n",
    "                continue\n",
    "            else:\n",
    "                temp_path = current_conformation.copy()\n",
    "                temp_path.append(new_point)\n",
    "                get_all_saws(current_paths, length-1,  temp_path)"
   ]
  },
  {
   "cell_type": "code",
   "execution_count": 3,
   "metadata": {},
   "outputs": [],
   "source": [
    "def get_sequences(length):\n",
    "    \"\"\"Получаем все последовательности заданной длины, состоящие из 0 и 1.\n",
    "    1 - это H\n",
    "    0 - это Р\"\"\"\n",
    "    if(length ==1):\n",
    "        return [[-1], [1]]\n",
    "    else:\n",
    "        previous = get_sequences(length - 1)\n",
    "        result = [] \n",
    "        for i in range(len(previous)):\n",
    "            current = previous[i].copy()\n",
    "            current.append(-1)\n",
    "            result.append(current.copy())\n",
    "            current[-1] = 1\n",
    "            result.append(current)\n",
    "            #print(result) \n",
    "        return sorted(result)"
   ]
  },
  {
   "cell_type": "code",
   "execution_count": 4,
   "metadata": {},
   "outputs": [],
   "source": [
    "def end_to_end_distance(path):\n",
    "    \"\"\"Евклидова метрика\"\"\"\n",
    "    distance = (path[-1][0]-path[0][0])**2+(path[-1][1]-path[0][1])**2   \n",
    "    return distance "
   ]
  },
  {
   "cell_type": "code",
   "execution_count": 5,
   "metadata": {},
   "outputs": [],
   "source": [
    "steps = [(1, 0), (-1, 0), (0, 1),  (0, -1)]\n",
    "def Ising_energy1(saw, seq):\n",
    "    \"\"\"Функция принимает на вход конформацию на плоскости(список координат). \n",
    "    Возвращает число топологических соседей для нее \"\"\"\n",
    "    k=0\n",
    "    for i in range(1, len(saw)-1):\n",
    "        not_topological=[saw[i-1], saw[i+1]]\n",
    "        for step in steps:\n",
    "            new_point = (saw[i][0]+step[0], saw[i][1]+step[1] )\n",
    "            if (new_point in saw and (new_point not in not_topological)):\n",
    "                position = saw.index(new_point)\n",
    "                k=k+seq[i]*seq[position]\n",
    "    for step in steps:\n",
    "        new_point_begin = (saw[0][0]+step[0], saw[0][1]+step[1] )\n",
    "        new_point_end= ( saw[-1][0]+step[0], saw[-1][1]+step[1])\n",
    "        \n",
    "        if(new_point_begin in saw and new_point_begin!=saw[1]):\n",
    "            position = saw.index(new_point_begin)\n",
    "            k=k+seq[0]*seq[position]\n",
    " \n",
    "        if( new_point_end in saw and new_point_end!=saw[-2]    ):\n",
    "            position = saw.index(new_point_end)\n",
    "            k=k+seq[-1]*seq[position]\n",
    "        \n",
    "        \n",
    "    #print(k)\n",
    "    return k//2"
   ]
  },
  {
   "cell_type": "code",
   "execution_count": 6,
   "metadata": {},
   "outputs": [],
   "source": [
    "steps = [(1, 0), (-1, 0), (0, 1),  (0, -1)]\n",
    "def Ising_energy(saw, seq):\n",
    "    \"\"\"Функция принимает на вход конформацию на плоскости(список координат). \n",
    "    Возвращает число топологических соседей для нее \"\"\"\n",
    "    k=0\n",
    "    for i in range(1, len(saw)-1):\n",
    "        not_topological=[saw[i-1], saw[i+1]]\n",
    "        for step in steps:\n",
    "            new_point = (saw[i][0]+step[0], saw[i][1]+step[1] )\n",
    "            if (new_point in saw    ):\n",
    "                position = saw.index(new_point)\n",
    "                k=k+seq[i]*seq[position]\n",
    "    for step in steps:\n",
    "        new_point_begin = (saw[0][0]+step[0], saw[0][1]+step[1] )\n",
    "        new_point_end= ( saw[-1][0]+step[0], saw[-1][1]+step[1])\n",
    "        \n",
    "        if(new_point_begin in saw ):\n",
    "            position = saw.index(new_point_begin)\n",
    "            k=k+seq[0]*seq[position]\n",
    " \n",
    "        if( new_point_end in saw    ):\n",
    "            position = saw.index(new_point_end)\n",
    "            k=k+seq[-1]*seq[position]\n",
    "        \n",
    "        \n",
    "    #print(k//2)\n",
    "    return k//2"
   ]
  },
  {
   "cell_type": "code",
   "execution_count": 7,
   "metadata": {},
   "outputs": [],
   "source": [
    "h=2\n",
    "def calc_r (eps, f = 8):\n",
    "\n",
    "    mean_c_l = []\n",
    "    \n",
    "    for i in range(4, f+1):\n",
    "        seq = get_sequences(i)\n",
    "        conformat = []\n",
    "\n",
    "        start_conformation = [(0,0)]\n",
    "        get_all_saws(conformat, i ,start_conformation)\n",
    "\n",
    "        Z = 0.0\n",
    "        R_sum = 0.0\n",
    "\n",
    "        for l in range(len(conformat)):\n",
    "            for j in range(len(seq)):\n",
    "                E = Ising_energy(conformat[l], seq[j])\n",
    "                Z = Z + np.exp(-(-eps*E-h*np.sum(seq[j])))\n",
    "                r = end_to_end_distance(conformat[l])\n",
    "                R_sum = R_sum + np.exp(-(-eps*E-h*np.sum(seq[j])))*r\n",
    "\n",
    "        mean_c_l.append(R_sum/Z)\n",
    "        \n",
    " \n",
    "            \n",
    "        print(i)\n",
    "        print(R_sum,Z)\n",
    "        print(R_sum/Z)\n",
    "        \n",
    "        \n",
    "    fn = 'Ising/radiues1'+str(eps)+'.pickle'\n",
    "    with open(fn, 'wb') as f:\n",
    "        pickle.dump(mean_c_l, f)        \n",
    "        \n",
    "    "
   ]
  },
  {
   "cell_type": "code",
   "execution_count": 18,
   "metadata": {},
   "outputs": [
    {
     "name": "stdout",
     "output_type": "stream",
     "text": [
      "4\n",
      "1043382.4994599628 253229.27719809744\n",
      "4.120307537124708\n",
      "5\n",
      "47272083.72277269 7434353.981538239\n",
      "6.358600066685504\n",
      "6\n",
      "1957690915.608241 243437927.59644663\n",
      "8.041848429031798\n",
      "7\n",
      "76185140527.49658 7174605636.023416\n",
      "10.618721696001513\n",
      "8\n",
      "2861155119277.486 231634939474.70267\n",
      "12.352001497554554\n"
     ]
    }
   ],
   "source": [
    "calc_r(0.5, 8)"
   ]
  },
  {
   "cell_type": "code",
   "execution_count": 19,
   "metadata": {},
   "outputs": [
    {
     "name": "stdout",
     "output_type": "stream",
     "text": [
      "4\n",
      "2598818.097541389 683137.0509246505\n",
      "3.8042411753597545\n",
      "5\n",
      "165516009.1705736 28005402.686641835\n",
      "5.91014566091286\n",
      "6\n",
      "9835616333.268118 1402418774.4025807\n",
      "7.013323347341818\n",
      "7\n",
      "548281981076.4695 58370467362.97512\n",
      "9.393140158823696\n",
      "8\n",
      "30016208965515.15 2924246389618.999\n",
      "10.26459640065623\n"
     ]
    },
    {
     "ename": "KeyboardInterrupt",
     "evalue": "",
     "output_type": "error",
     "traceback": [
      "\u001b[0;31m---------------------------------------------------------------------------\u001b[0m",
      "\u001b[0;31mKeyboardInterrupt\u001b[0m                         Traceback (most recent call last)",
      "\u001b[0;32m<ipython-input-19-09b55b8c640b>\u001b[0m in \u001b[0;36m<module>\u001b[0;34m\u001b[0m\n\u001b[0;32m----> 1\u001b[0;31m \u001b[0mcalc_r\u001b[0m\u001b[0;34m(\u001b[0m\u001b[0;36m0.8\u001b[0m\u001b[0;34m,\u001b[0m \u001b[0;36m9\u001b[0m\u001b[0;34m)\u001b[0m\u001b[0;34m\u001b[0m\u001b[0;34m\u001b[0m\u001b[0m\n\u001b[0m",
      "\u001b[0;32m<ipython-input-16-eda177080f58>\u001b[0m in \u001b[0;36mcalc_r\u001b[0;34m(eps, f)\u001b[0m\n\u001b[1;32m     17\u001b[0m             \u001b[0;32mfor\u001b[0m \u001b[0mj\u001b[0m \u001b[0;32min\u001b[0m \u001b[0mrange\u001b[0m\u001b[0;34m(\u001b[0m\u001b[0mlen\u001b[0m\u001b[0;34m(\u001b[0m\u001b[0mseq\u001b[0m\u001b[0;34m)\u001b[0m\u001b[0;34m)\u001b[0m\u001b[0;34m:\u001b[0m\u001b[0;34m\u001b[0m\u001b[0;34m\u001b[0m\u001b[0m\n\u001b[1;32m     18\u001b[0m                 \u001b[0mE\u001b[0m \u001b[0;34m=\u001b[0m \u001b[0mIsing_energy\u001b[0m\u001b[0;34m(\u001b[0m\u001b[0mconformat\u001b[0m\u001b[0;34m[\u001b[0m\u001b[0ml\u001b[0m\u001b[0;34m]\u001b[0m\u001b[0;34m,\u001b[0m \u001b[0mseq\u001b[0m\u001b[0;34m[\u001b[0m\u001b[0mj\u001b[0m\u001b[0;34m]\u001b[0m\u001b[0;34m)\u001b[0m\u001b[0;34m\u001b[0m\u001b[0;34m\u001b[0m\u001b[0m\n\u001b[0;32m---> 19\u001b[0;31m                 \u001b[0mZ\u001b[0m \u001b[0;34m=\u001b[0m \u001b[0mZ\u001b[0m \u001b[0;34m+\u001b[0m \u001b[0mnp\u001b[0m\u001b[0;34m.\u001b[0m\u001b[0mexp\u001b[0m\u001b[0;34m(\u001b[0m\u001b[0;34m-\u001b[0m\u001b[0;34m(\u001b[0m\u001b[0;34m-\u001b[0m\u001b[0meps\u001b[0m\u001b[0;34m*\u001b[0m\u001b[0mE\u001b[0m\u001b[0;34m-\u001b[0m\u001b[0mh\u001b[0m\u001b[0;34m*\u001b[0m\u001b[0mnp\u001b[0m\u001b[0;34m.\u001b[0m\u001b[0msum\u001b[0m\u001b[0;34m(\u001b[0m\u001b[0mseq\u001b[0m\u001b[0;34m[\u001b[0m\u001b[0mj\u001b[0m\u001b[0;34m]\u001b[0m\u001b[0;34m)\u001b[0m\u001b[0;34m)\u001b[0m\u001b[0;34m)\u001b[0m\u001b[0;34m\u001b[0m\u001b[0;34m\u001b[0m\u001b[0m\n\u001b[0m\u001b[1;32m     20\u001b[0m                 \u001b[0mr\u001b[0m \u001b[0;34m=\u001b[0m \u001b[0mend_to_end_distance\u001b[0m\u001b[0;34m(\u001b[0m\u001b[0mconformat\u001b[0m\u001b[0;34m[\u001b[0m\u001b[0ml\u001b[0m\u001b[0;34m]\u001b[0m\u001b[0;34m)\u001b[0m\u001b[0;34m\u001b[0m\u001b[0;34m\u001b[0m\u001b[0m\n\u001b[1;32m     21\u001b[0m                 \u001b[0mR_sum\u001b[0m \u001b[0;34m=\u001b[0m \u001b[0mR_sum\u001b[0m \u001b[0;34m+\u001b[0m \u001b[0mnp\u001b[0m\u001b[0;34m.\u001b[0m\u001b[0mexp\u001b[0m\u001b[0;34m(\u001b[0m\u001b[0;34m-\u001b[0m\u001b[0;34m(\u001b[0m\u001b[0;34m-\u001b[0m\u001b[0meps\u001b[0m\u001b[0;34m*\u001b[0m\u001b[0mE\u001b[0m\u001b[0;34m-\u001b[0m\u001b[0mh\u001b[0m\u001b[0;34m*\u001b[0m\u001b[0mnp\u001b[0m\u001b[0;34m.\u001b[0m\u001b[0msum\u001b[0m\u001b[0;34m(\u001b[0m\u001b[0mseq\u001b[0m\u001b[0;34m[\u001b[0m\u001b[0mj\u001b[0m\u001b[0;34m]\u001b[0m\u001b[0;34m)\u001b[0m\u001b[0;34m)\u001b[0m\u001b[0;34m)\u001b[0m\u001b[0;34m*\u001b[0m\u001b[0mr\u001b[0m\u001b[0;34m\u001b[0m\u001b[0;34m\u001b[0m\u001b[0m\n",
      "\u001b[0;32m<__array_function__ internals>\u001b[0m in \u001b[0;36msum\u001b[0;34m(*args, **kwargs)\u001b[0m\n",
      "\u001b[0;32m~/anaconda3/lib/python3.8/site-packages/numpy/core/fromnumeric.py\u001b[0m in \u001b[0;36msum\u001b[0;34m(a, axis, dtype, out, keepdims, initial, where)\u001b[0m\n\u001b[1;32m   2239\u001b[0m         \u001b[0;32mreturn\u001b[0m \u001b[0mres\u001b[0m\u001b[0;34m\u001b[0m\u001b[0;34m\u001b[0m\u001b[0m\n\u001b[1;32m   2240\u001b[0m \u001b[0;34m\u001b[0m\u001b[0m\n\u001b[0;32m-> 2241\u001b[0;31m     return _wrapreduction(a, np.add, 'sum', axis, dtype, out, keepdims=keepdims,\n\u001b[0m\u001b[1;32m   2242\u001b[0m                           initial=initial, where=where)\n\u001b[1;32m   2243\u001b[0m \u001b[0;34m\u001b[0m\u001b[0m\n",
      "\u001b[0;32m~/anaconda3/lib/python3.8/site-packages/numpy/core/fromnumeric.py\u001b[0m in \u001b[0;36m_wrapreduction\u001b[0;34m(obj, ufunc, method, axis, dtype, out, **kwargs)\u001b[0m\n\u001b[1;32m     85\u001b[0m                 \u001b[0;32mreturn\u001b[0m \u001b[0mreduction\u001b[0m\u001b[0;34m(\u001b[0m\u001b[0maxis\u001b[0m\u001b[0;34m=\u001b[0m\u001b[0maxis\u001b[0m\u001b[0;34m,\u001b[0m \u001b[0mout\u001b[0m\u001b[0;34m=\u001b[0m\u001b[0mout\u001b[0m\u001b[0;34m,\u001b[0m \u001b[0;34m**\u001b[0m\u001b[0mpasskwargs\u001b[0m\u001b[0;34m)\u001b[0m\u001b[0;34m\u001b[0m\u001b[0;34m\u001b[0m\u001b[0m\n\u001b[1;32m     86\u001b[0m \u001b[0;34m\u001b[0m\u001b[0m\n\u001b[0;32m---> 87\u001b[0;31m     \u001b[0;32mreturn\u001b[0m \u001b[0mufunc\u001b[0m\u001b[0;34m.\u001b[0m\u001b[0mreduce\u001b[0m\u001b[0;34m(\u001b[0m\u001b[0mobj\u001b[0m\u001b[0;34m,\u001b[0m \u001b[0maxis\u001b[0m\u001b[0;34m,\u001b[0m \u001b[0mdtype\u001b[0m\u001b[0;34m,\u001b[0m \u001b[0mout\u001b[0m\u001b[0;34m,\u001b[0m \u001b[0;34m**\u001b[0m\u001b[0mpasskwargs\u001b[0m\u001b[0;34m)\u001b[0m\u001b[0;34m\u001b[0m\u001b[0;34m\u001b[0m\u001b[0m\n\u001b[0m\u001b[1;32m     88\u001b[0m \u001b[0;34m\u001b[0m\u001b[0m\n\u001b[1;32m     89\u001b[0m \u001b[0;34m\u001b[0m\u001b[0m\n",
      "\u001b[0;31mKeyboardInterrupt\u001b[0m: "
     ]
    }
   ],
   "source": [
    "calc_r(0.8, 9)"
   ]
  },
  {
   "cell_type": "code",
   "execution_count": 8,
   "metadata": {},
   "outputs": [],
   "source": [
    "def center_of_mass(conformation):\n",
    "    \"\"\"Функция для нахождения координат центра масс.\n",
    "    Подразумевается, что все аминокислоты в молекуле одинаковой массы, а между ними ничего с массой нет.\n",
    "    Принимает конформацию - список из координат, возвращает координаты в виде коортежа.\n",
    "    \"\"\"\n",
    "    x=0\n",
    "    y=0\n",
    "    for i in range(len(conformation)):\n",
    "        x=x+(conformation[i][0]-conformation[0][0])\n",
    "        y=y+(conformation[i][1]-conformation[0][1])\n",
    "        \n",
    "    return (x/len(conformation), y/len(conformation)) \n",
    "\n",
    "def square_radius_of_gyration(conformation):\n",
    "    \"\"\"Функция возвращает радиус вращения для данной конформации \"\"\"\n",
    "    cent_mass=center_of_mass(conformation)\n",
    "    summa=0\n",
    "    for i in range(len(conformation)):\n",
    "        dist = (conformation[i][0]-cent_mass[0],  conformation[i][1]-cent_mass[1])\n",
    "        summa=summa+dist[0]*dist[0]+dist[1]*dist[1]\n",
    "    return summa/len(conformation)\n",
    "    "
   ]
  },
  {
   "cell_type": "code",
   "execution_count": 9,
   "metadata": {},
   "outputs": [],
   "source": [
    "def calc_r_gyration (eps, f = 8):\n",
    "\n",
    "    mean_c_l = []\n",
    "    \n",
    "    for i in range(4, f+1):\n",
    "        seq = get_sequences(i)\n",
    "        conformat = []\n",
    "\n",
    "        start_conformation = [(0,0)]\n",
    "        get_all_saws(conformat, i ,start_conformation)\n",
    "\n",
    "        Z = 0.0\n",
    "        R_sum = 0.0\n",
    "\n",
    "        for l in range(len(conformat)):\n",
    "            for j in range(len(seq)):\n",
    "                E = Ising_energy(conformat[l], seq[j])\n",
    "                Z = Z + np.exp(-eps*E)\n",
    "                r = square_radius_of_gyration(conformat[l])\n",
    "                R_sum = R_sum + np.exp(-eps*E)*r\n",
    "\n",
    "        mean_c_l.append(R_sum/Z)\n",
    "        \n",
    " \n",
    "            \n",
    "        print(i)\n",
    "        print(R_sum,Z, R_sum/Z)\n",
    "        \n",
    "        \n",
    "    fn = 'Ising/radiues1'+str(eps)+'_gyr.pickle'\n",
    "    with open(fn, 'wb') as f:\n",
    "        pickle.dump(mean_c_l, f)        \n",
    "        "
   ]
  },
  {
   "cell_type": "code",
   "execution_count": 13,
   "metadata": {},
   "outputs": [
    {
     "name": "stdout",
     "output_type": "stream",
     "text": [
      "4\n",
      "681.7238821435777 858.742463331268 0.7938630162749927\n",
      "5\n",
      "6213.934097431552 5470.247184080317 1.135951244674196\n",
      "6\n",
      "53967.83337974882 36469.462495951164 1.479808850644298\n",
      "7\n",
      "433974.42794130195 230746.3218309893 1.8807425596112755\n",
      "8\n",
      "3430048.223825537 1507905.6345244353 2.2747101312525495\n",
      "9\n",
      "25876275.96334907 9492969.084872395 2.7258359036041147\n"
     ]
    }
   ],
   "source": [
    "calc_r_gyration(0.5, 9)"
   ]
  },
  {
   "cell_type": "code",
   "execution_count": 10,
   "metadata": {},
   "outputs": [
    {
     "name": "stdout",
     "output_type": "stream",
     "text": [
      "4\n",
      "1201.5115397967031 1560.928903075966 0.7697413619729924\n",
      "5\n",
      "13393.665052724224 12196.1421903517 1.0981886602896347\n",
      "6\n",
      "148709.32843590336 106530.50121774133 1.3959319325077733\n",
      "7\n",
      "1478559.1895109913 836004.8171040502 1.7686012798739268\n",
      "8\n",
      "15060256.620164337 7210703.25405901 2.0885974764925597\n",
      "9\n",
      "142006079.74203935 57056848.58054875 2.4888524914159147\n"
     ]
    }
   ],
   "source": [
    "calc_r_gyration(0.8, 9)"
   ]
  },
  {
   "cell_type": "code",
   "execution_count": 16,
   "metadata": {},
   "outputs": [
    {
     "name": "stdout",
     "output_type": "stream",
     "text": [
      "4\n",
      "2624.0 576.0\n",
      "5\n",
      "22528.0 3200.0\n",
      "6\n",
      "173824.0 18176.0\n",
      "7\n",
      "1255424.0 99840.0\n",
      "8\n",
      "8649728.0 556032.0\n",
      "9\n",
      "57589760.0 3028992.0\n"
     ]
    }
   ],
   "source": [
    "calc_r(0, 9)"
   ]
  },
  {
   "cell_type": "code",
   "execution_count": 9,
   "metadata": {},
   "outputs": [
    {
     "name": "stdout",
     "output_type": "stream",
     "text": [
      "4\n",
      "2624.0 576.0\n",
      "5\n",
      "22528.0 3200.0\n",
      "6\n",
      "173824.0 18176.0\n",
      "7\n",
      "1255424.0 99840.0\n",
      "8\n",
      "8649728.0 556032.0\n",
      "9\n",
      "57589760.0 3028992.0\n"
     ]
    }
   ],
   "source": [
    "calc_r(0, 9)"
   ]
  },
  {
   "cell_type": "code",
   "execution_count": 9,
   "metadata": {},
   "outputs": [
    {
     "name": "stdout",
     "output_type": "stream",
     "text": [
      "4\n",
      "2301314.7671979447 559102.5589982035\n",
      "4.116086986476017\n",
      "5\n",
      "127225222.20031191 20022237.357214194\n",
      "6.354196083609583\n",
      "6\n",
      "6429960937.67582 800525389.4827659\n",
      "8.032176146006233\n",
      "7\n",
      "305342776295.6921 28781448383.5583\n",
      "10.609013564102712\n",
      "8\n",
      "13994564463899.232 1134493693507.6902\n",
      "12.335515432113215\n",
      "9\n",
      "620855601333435.1 41043134031759.05\n",
      "15.12690529073679\n"
     ]
    }
   ],
   "source": [
    "calc_r(0.5, 9)\n"
   ]
  },
  {
   "cell_type": "code",
   "execution_count": 10,
   "metadata": {},
   "outputs": [
    {
     "name": "stdout",
     "output_type": "stream",
     "text": [
      "4\n",
      "3795.209668892801 858.742463331268\n",
      "5\n",
      "37312.923012477615 5470.247184080317\n",
      "6\n",
      "331093.8458863125 36469.462495951164\n",
      "7\n",
      "2754353.1265523713 230746.3218309893\n",
      "8\n",
      "21914197.889178168 1507905.6345244353\n",
      "9\n",
      "168616103.63162214 9492969.084872395\n"
     ]
    }
   ],
   "source": [
    "calc_r(0.5, 9)"
   ]
  },
  {
   "cell_type": "code",
   "execution_count": 18,
   "metadata": {},
   "outputs": [
    {
     "name": "stdout",
     "output_type": "stream",
     "text": [
      "4\n",
      "2667.1916731270217 619.1916731270205\n",
      "5\n",
      "23564.60015504843 3545.5333850161933\n",
      "6\n",
      "188630.015635034 21691.75723609176\n",
      "7\n",
      "1417002.4756924948 123819.65726853596\n",
      "8\n",
      "10206165.11825616 743246.7419526328\n",
      "9\n",
      "71123942.77211504 4234400.026969783\n"
     ]
    }
   ],
   "source": [
    "calc_r(0.8, 9)\n"
   ]
  },
  {
   "cell_type": "code",
   "execution_count": 11,
   "metadata": {},
   "outputs": [
    {
     "name": "stdout",
     "output_type": "stream",
     "text": [
      "4\n",
      "6460.385930086536 1560.928903075966\n",
      "5\n",
      "77952.37717293733 12196.1421903517\n",
      "6\n",
      "860239.0706876665 106530.50121774133\n",
      "7\n",
      "8918268.76338377 836004.8171040502\n",
      "8\n",
      "89298294.74877487 7210703.25405901\n",
      "9\n",
      "865641491.5100735 57056848.58054875\n"
     ]
    }
   ],
   "source": [
    "calc_r(0.8, 9)"
   ]
  },
  {
   "cell_type": "code",
   "execution_count": 19,
   "metadata": {},
   "outputs": [
    {
     "name": "stdout",
     "output_type": "stream",
     "text": [
      "4\n",
      "2748.277021481804 700.2770214818084\n",
      "5\n",
      "25510.648515563735 4194.216171854423\n",
      "6\n",
      "218945.16564905495 29551.65089116937\n",
      "7\n",
      "1764426.8843524102 178914.61306710588\n",
      "8\n",
      "13852065.182455745 1251987.7692973707\n",
      "9\n",
      "105179763.76126094 7710227.959430352\n"
     ]
    }
   ],
   "source": [
    "calc_r(1.3, 9)"
   ]
  },
  {
   "cell_type": "code",
   "execution_count": 12,
   "metadata": {},
   "outputs": [
    {
     "name": "stdout",
     "output_type": "stream",
     "text": [
      "4\n",
      "22105.87517150113 6426.3420133735535\n",
      "5\n",
      "435316.2680159763 80080.32855429556\n",
      "6\n",
      "8335701.681888831 1418683.5275521083\n",
      "7\n",
      "147784967.43690336 18166659.024148706\n",
      "8\n",
      "2684658640.3004537 333091986.3716222\n",
      "9\n",
      "46704209216.32553 4587856888.732316\n"
     ]
    }
   ],
   "source": [
    "calc_r(1.3, 9)"
   ]
  },
  {
   "cell_type": "code",
   "execution_count": null,
   "metadata": {},
   "outputs": [],
   "source": []
  }
 ],
 "metadata": {
  "kernelspec": {
   "display_name": "Python 3",
   "language": "python",
   "name": "python3"
  },
  "language_info": {
   "codemirror_mode": {
    "name": "ipython",
    "version": 3
   },
   "file_extension": ".py",
   "mimetype": "text/x-python",
   "name": "python",
   "nbconvert_exporter": "python",
   "pygments_lexer": "ipython3",
   "version": "3.8.5"
  }
 },
 "nbformat": 4,
 "nbformat_minor": 4
}

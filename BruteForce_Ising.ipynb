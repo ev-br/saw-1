{
 "cells": [
  {
   "cell_type": "code",
   "execution_count": 1,
   "metadata": {},
   "outputs": [],
   "source": [
    "import matplotlib.pyplot as plt\n",
    "import numpy as np \n",
    "from math import sqrt \n",
    "from math import floor\n",
    "from math import ceil\n",
    "from math import exp \n",
    "import pickle\n",
    "from operator import itemgetter\n",
    "import time\n",
    "from datetime import timedelta\n",
    "import matplotlib\n",
    "from matplotlib import cm, colors\n",
    "from numpy import amin, amax, ravel\n",
    "\n",
    "import pickle\n"
   ]
  },
  {
   "cell_type": "code",
   "execution_count": 2,
   "metadata": {},
   "outputs": [],
   "source": [
    "def get_all_saws(current_paths, length, current_conformation):\n",
    "    \"\"\" Все созданные конформации лежат в первом аргументе функции get_all_saws, \n",
    "    поэтому первым аргументом нужно подавать переменную, которой ранее присвоили пустой список\n",
    "    \n",
    "    \"\"\"\n",
    "    if(length==1):\n",
    "        current_paths.append(current_conformation)\n",
    "    else:\n",
    "        for step in [(1, 0), (-1, 0), (0, 1),  (0, -1)]:\n",
    "            new_point = (current_conformation[-1][0]+step[0], current_conformation[-1][1]+step[1] )\n",
    "            if new_point in current_conformation:\n",
    "                continue\n",
    "            else:\n",
    "                temp_path = current_conformation.copy()\n",
    "                temp_path.append(new_point)\n",
    "                get_all_saws(current_paths, length-1,  temp_path)"
   ]
  },
  {
   "cell_type": "code",
   "execution_count": 3,
   "metadata": {},
   "outputs": [],
   "source": [
    "def get_sequences(length):\n",
    "    \"\"\"Получаем все последовательности заданной длины, состоящие из 0 и 1.\n",
    "    1 - это H\n",
    "    0 - это Р\"\"\"\n",
    "    if(length ==1):\n",
    "        return [[-1], [1]]\n",
    "    else:\n",
    "        previous = get_sequences(length - 1)\n",
    "        result = [] \n",
    "        for i in range(len(previous)):\n",
    "            current = previous[i].copy()\n",
    "            current.append(-1)\n",
    "            result.append(current.copy())\n",
    "            current[-1] = 1\n",
    "            result.append(current)\n",
    "            #print(result) \n",
    "        return sorted(result)"
   ]
  },
  {
   "cell_type": "code",
   "execution_count": 4,
   "metadata": {},
   "outputs": [],
   "source": [
    "def end_to_end_distance(path):\n",
    "    \"\"\"Евклидова метрика\"\"\"\n",
    "    distance = (path[-1][0]-path[0][0])**2+(path[-1][1]-path[0][1])**2   \n",
    "    return distance "
   ]
  },
  {
   "cell_type": "code",
   "execution_count": 5,
   "metadata": {},
   "outputs": [],
   "source": [
    "steps = [(1, 0), (-1, 0), (0, 1),  (0, -1)]\n",
    "def Ising_energy1(saw, seq):\n",
    "    \"\"\"Функция принимает на вход конформацию на плоскости(список координат). \n",
    "    Возвращает число топологических соседей для нее \"\"\"\n",
    "    k=0\n",
    "    for i in range(1, len(saw)-1):\n",
    "        not_topological=[saw[i-1], saw[i+1]]\n",
    "        for step in steps:\n",
    "            new_point = (saw[i][0]+step[0], saw[i][1]+step[1] )\n",
    "            if (new_point in saw and (new_point not in not_topological)):\n",
    "                position = saw.index(new_point)\n",
    "                k=k+seq[i]*seq[position]\n",
    "    for step in steps:\n",
    "        new_point_begin = (saw[0][0]+step[0], saw[0][1]+step[1] )\n",
    "        new_point_end= ( saw[-1][0]+step[0], saw[-1][1]+step[1])\n",
    "        \n",
    "        if(new_point_begin in saw and new_point_begin!=saw[1]):\n",
    "            position = saw.index(new_point_begin)\n",
    "            k=k+seq[0]*seq[position]\n",
    " \n",
    "        if( new_point_end in saw and new_point_end!=saw[-2]    ):\n",
    "            position = saw.index(new_point_end)\n",
    "            k=k+seq[-1]*seq[position]\n",
    "        \n",
    "        \n",
    "    #print(k)\n",
    "    return k//2"
   ]
  },
  {
   "cell_type": "code",
   "execution_count": 6,
   "metadata": {},
   "outputs": [],
   "source": [
    "steps = [(1, 0), (-1, 0), (0, 1),  (0, -1)]\n",
    "def Ising_energy(saw, seq):\n",
    "    \"\"\"Функция принимает на вход конформацию на плоскости(список координат). \n",
    "    Возвращает число топологических соседей для нее \"\"\"\n",
    "    k=0\n",
    "    for i in range(1, len(saw)-1):\n",
    "        not_topological=[saw[i-1], saw[i+1]]\n",
    "        for step in steps:\n",
    "            new_point = (saw[i][0]+step[0], saw[i][1]+step[1] )\n",
    "            if (new_point in saw    ):\n",
    "                position = saw.index(new_point)\n",
    "                k=k+seq[i]*seq[position]\n",
    "    for step in steps:\n",
    "        new_point_begin = (saw[0][0]+step[0], saw[0][1]+step[1] )\n",
    "        new_point_end= ( saw[-1][0]+step[0], saw[-1][1]+step[1])\n",
    "        \n",
    "        if(new_point_begin in saw ):\n",
    "            position = saw.index(new_point_begin)\n",
    "            k=k+seq[0]*seq[position]\n",
    " \n",
    "        if( new_point_end in saw    ):\n",
    "            position = saw.index(new_point_end)\n",
    "            k=k+seq[-1]*seq[position]\n",
    "        \n",
    "        \n",
    "    #print(k//2)\n",
    "    return k//2"
   ]
  },
  {
   "cell_type": "code",
   "execution_count": 8,
   "metadata": {},
   "outputs": [],
   "source": [
    "def calc_r (eps, f = 8):\n",
    "\n",
    "    mean_c_l = []\n",
    "    \n",
    "    for i in range(4, f+1):\n",
    "        seq = get_sequences(i)\n",
    "        conformat = []\n",
    "\n",
    "        start_conformation = [(0,0)]\n",
    "        get_all_saws(conformat, i ,start_conformation)\n",
    "\n",
    "        Z = 0.0\n",
    "        R_sum = 0.0\n",
    "\n",
    "        for l in range(len(conformat)):\n",
    "            for j in range(len(seq)):\n",
    "                E = Ising_energy(conformat[l], seq[j])\n",
    "                Z = Z + np.exp(-eps*E)\n",
    "                r = end_to_end_distance(conformat[l])\n",
    "                R_sum = R_sum + np.exp(-eps*E)*r\n",
    "\n",
    "        mean_c_l.append(R_sum/Z)\n",
    "        \n",
    " \n",
    "            \n",
    "        print(i)\n",
    "        print(R_sum,Z)\n",
    "        \n",
    "        \n",
    "    fn = 'Ising/radiues1'+str(eps)+'.pickle'\n",
    "    with open(fn, 'wb') as f:\n",
    "        pickle.dump(mean_c_l, f)        \n",
    "        \n",
    "    "
   ]
  },
  {
   "cell_type": "code",
   "execution_count": 16,
   "metadata": {},
   "outputs": [
    {
     "name": "stdout",
     "output_type": "stream",
     "text": [
      "4\n",
      "2624.0 576.0\n",
      "5\n",
      "22528.0 3200.0\n",
      "6\n",
      "173824.0 18176.0\n",
      "7\n",
      "1255424.0 99840.0\n",
      "8\n",
      "8649728.0 556032.0\n",
      "9\n",
      "57589760.0 3028992.0\n"
     ]
    }
   ],
   "source": [
    "calc_r(0, 9)"
   ]
  },
  {
   "cell_type": "code",
   "execution_count": 9,
   "metadata": {},
   "outputs": [
    {
     "name": "stdout",
     "output_type": "stream",
     "text": [
      "4\n",
      "2624.0 576.0\n",
      "5\n",
      "22528.0 3200.0\n",
      "6\n",
      "173824.0 18176.0\n",
      "7\n",
      "1255424.0 99840.0\n",
      "8\n",
      "8649728.0 556032.0\n",
      "9\n",
      "57589760.0 3028992.0\n"
     ]
    }
   ],
   "source": [
    "calc_r(0, 9)"
   ]
  },
  {
   "cell_type": "code",
   "execution_count": 17,
   "metadata": {},
   "outputs": [
    {
     "name": "stdout",
     "output_type": "stream",
     "text": [
      "4\n",
      "2640.336123546419 592.3361235464173\n",
      "5\n",
      "22920.0669651138 3330.68898837134\n",
      "6\n",
      "179314.31025052821 19450.904006091405\n",
      "7\n",
      "1314617.4624171467 108470.96418831087\n",
      "8\n",
      "9209250.60765332 620872.5772800967\n",
      "9\n",
      "62375951.11366061 3440720.7547768005\n"
     ]
    }
   ],
   "source": [
    "calc_r(0.5, 9)\n"
   ]
  },
  {
   "cell_type": "code",
   "execution_count": 10,
   "metadata": {},
   "outputs": [
    {
     "name": "stdout",
     "output_type": "stream",
     "text": [
      "4\n",
      "3795.209668892801 858.742463331268\n",
      "5\n",
      "37312.923012477615 5470.247184080317\n",
      "6\n",
      "331093.8458863125 36469.462495951164\n",
      "7\n",
      "2754353.1265523713 230746.3218309893\n",
      "8\n",
      "21914197.889178168 1507905.6345244353\n",
      "9\n",
      "168616103.63162214 9492969.084872395\n"
     ]
    }
   ],
   "source": [
    "calc_r(0.5, 9)"
   ]
  },
  {
   "cell_type": "code",
   "execution_count": 18,
   "metadata": {},
   "outputs": [
    {
     "name": "stdout",
     "output_type": "stream",
     "text": [
      "4\n",
      "2667.1916731270217 619.1916731270205\n",
      "5\n",
      "23564.60015504843 3545.5333850161933\n",
      "6\n",
      "188630.015635034 21691.75723609176\n",
      "7\n",
      "1417002.4756924948 123819.65726853596\n",
      "8\n",
      "10206165.11825616 743246.7419526328\n",
      "9\n",
      "71123942.77211504 4234400.026969783\n"
     ]
    }
   ],
   "source": [
    "calc_r(0.8, 9)\n"
   ]
  },
  {
   "cell_type": "code",
   "execution_count": 11,
   "metadata": {},
   "outputs": [
    {
     "name": "stdout",
     "output_type": "stream",
     "text": [
      "4\n",
      "6460.385930086536 1560.928903075966\n",
      "5\n",
      "77952.37717293733 12196.1421903517\n",
      "6\n",
      "860239.0706876665 106530.50121774133\n",
      "7\n",
      "8918268.76338377 836004.8171040502\n",
      "8\n",
      "89298294.74877487 7210703.25405901\n",
      "9\n",
      "865641491.5100735 57056848.58054875\n"
     ]
    }
   ],
   "source": [
    "calc_r(0.8, 9)"
   ]
  },
  {
   "cell_type": "code",
   "execution_count": 19,
   "metadata": {},
   "outputs": [
    {
     "name": "stdout",
     "output_type": "stream",
     "text": [
      "4\n",
      "2748.277021481804 700.2770214818084\n",
      "5\n",
      "25510.648515563735 4194.216171854423\n",
      "6\n",
      "218945.16564905495 29551.65089116937\n",
      "7\n",
      "1764426.8843524102 178914.61306710588\n",
      "8\n",
      "13852065.182455745 1251987.7692973707\n",
      "9\n",
      "105179763.76126094 7710227.959430352\n"
     ]
    }
   ],
   "source": [
    "calc_r(1.3, 9)"
   ]
  },
  {
   "cell_type": "code",
   "execution_count": 12,
   "metadata": {},
   "outputs": [
    {
     "name": "stdout",
     "output_type": "stream",
     "text": [
      "4\n",
      "22105.87517150113 6426.3420133735535\n",
      "5\n",
      "435316.2680159763 80080.32855429556\n",
      "6\n",
      "8335701.681888831 1418683.5275521083\n",
      "7\n",
      "147784967.43690336 18166659.024148706\n",
      "8\n",
      "2684658640.3004537 333091986.3716222\n",
      "9\n",
      "46704209216.32553 4587856888.732316\n"
     ]
    }
   ],
   "source": [
    "calc_r(1.3, 9)"
   ]
  },
  {
   "cell_type": "code",
   "execution_count": null,
   "metadata": {},
   "outputs": [],
   "source": []
  }
 ],
 "metadata": {
  "kernelspec": {
   "display_name": "Python 3",
   "language": "python",
   "name": "python3"
  },
  "language_info": {
   "codemirror_mode": {
    "name": "ipython",
    "version": 3
   },
   "file_extension": ".py",
   "mimetype": "text/x-python",
   "name": "python",
   "nbconvert_exporter": "python",
   "pygments_lexer": "ipython3",
   "version": "3.7.9"
  }
 },
 "nbformat": 4,
 "nbformat_minor": 4
}
